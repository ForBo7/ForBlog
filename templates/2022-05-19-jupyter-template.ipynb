{
 "cells": [
  {
   "cell_type": "markdown",
   "source": [
    "# \"Title\"\n",
    "> \"Awesome summary\"\n",
    "\n",
    "- sticky_rank:\n",
    "- toc: false\n",
    "- branch: master\n",
    "- badges: true\n",
    "- hide_github_badge: false\n",
    "- hide_binder_badge: false\n",
    "- hide_deepnote_badge: false\n",
    "- hide_colab_badge: false\n",
    "- comments: true\n",
    "- categories:\n",
    "- image:\n",
    "- hide: true\n",
    "- search_exclude: true"
   ],
   "metadata": {
    "collapsed": false,
    "pycharm": {
     "name": "#%% md\n"
    }
   }
  }
 ],
 "metadata": {
  "kernelspec": {
   "display_name": "Python 3",
   "language": "python",
   "name": "python3"
  },
  "language_info": {
   "codemirror_mode": {
    "name": "ipython",
    "version": 2
   },
   "file_extension": ".py",
   "mimetype": "text/x-python",
   "name": "python",
   "nbconvert_exporter": "python",
   "pygments_lexer": "ipython2",
   "version": "2.7.6"
  }
 },
 "nbformat": 4,
 "nbformat_minor": 0
}